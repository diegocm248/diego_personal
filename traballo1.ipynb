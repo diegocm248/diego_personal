{
 "cells": [
  {
   "cell_type": "markdown",
   "id": "142e7db2",
   "metadata": {},
   "source": [
    "# Traballo 1\n",
    "\n",
    "### Car sales data\n",
    "\n",
    "Obxectivo: Predicir o prezo dos coches introducindo certos datos"
   ]
  },
  {
   "cell_type": "code",
   "execution_count": null,
   "id": "52898c8b",
   "metadata": {},
   "outputs": [],
   "source": [
    "# Imports das librerías\n",
    "import numpy as np \n",
    "import pandas as pd\n",
    "## Para ploteo\n",
    "import seaborn as sns\n",
    "import matplotlib.pyplot as plt    "
   ]
  },
  {
   "cell_type": "code",
   "execution_count": null,
   "id": "6322cfcb",
   "metadata": {},
   "outputs": [],
   "source": [
    "df = pd.read_csv(\"car_sales_data.csv\")\n",
    "df.head()"
   ]
  },
  {
   "cell_type": "code",
   "execution_count": null,
   "id": "0c926dfe",
   "metadata": {},
   "outputs": [],
   "source": [
    "print( \"Os parámetros deste dataset son: \" ); print( df.columns.to_list() )"
   ]
  },
  {
   "cell_type": "code",
   "execution_count": null,
   "id": "76952787",
   "metadata": {},
   "outputs": [],
   "source": [
    "df.info()"
   ]
  },
  {
   "cell_type": "code",
   "execution_count": null,
   "id": "da7b1c78",
   "metadata": {},
   "outputs": [],
   "source": [
    "# Cambiamos os data types das columnas (para poder traballar con eles)\n",
    "# obj --> int8\n",
    "df_copy = df.copy()\n",
    "df_copy[\"Manufacturer\"] = df[\"Manufacturer\"].astype('category').cat.codes\n",
    "df_copy[\"Model\"] = df[\"Model\"].astype('category').cat.codes\n",
    "df_copy[\"Fuel type\"] = df[\"Fuel type\"].astype('category').cat.codes\n",
    "\n",
    "df_copy.info()\n",
    "df_copy.shape"
   ]
  },
  {
   "cell_type": "markdown",
   "id": "513512c4",
   "metadata": {},
   "source": [
    "### Matriz de Correlación\n",
    "\n",
    "Imos ver a **Matriz de correlación** das variables para ver cales están máis correlacionadas entre sí."
   ]
  },
  {
   "cell_type": "code",
   "execution_count": null,
   "id": "c5178c40",
   "metadata": {},
   "outputs": [],
   "source": [
    "\n",
    "corr_matrix = df_copy.corr() # Matriz de correlación\n",
    "\n",
    "# Visualización da matriz de correlación\n",
    "ax = sns.heatmap(corr_matrix, vmax=1, vmin=-1, annot=True, fmt=\".2f\", cmap= sns.cubehelix_palette(as_cmap=True), linewidth=.5)\n",
    "# annot --> para ver os valores na matriz\n",
    "# fmt --> para controlar o formato dos valores na matriz\n",
    "# cmap --> para cambiar o mapa de cores\n",
    "# linewidth --> para o grosor da separación entre celas \n",
    "# vmax e vmin --> para controlar o rango de valores nos que se van a mapear ás cores\n",
    "\n",
    "ax.xaxis.set_tick_params(rotation=45) #rota os nomes das columnas"
   ]
  },
  {
   "cell_type": "markdown",
   "id": "99880fc7",
   "metadata": {},
   "source": [
    "Vemos que hai dúas variables moi correlacionadas co prezo i entre si:\n",
    "* **Mileage**\n",
    "* **Year of manufacture**\n",
    "\n",
    "1. O motivo da súa relación mútua é evidente: *Canto máis vello o coche, máis probable é que recorrera máis km*.\n",
    "2. O motivo da súa relación co prezo tamén é evidente: *Canto máis usado o coche, menos interés hai na súa compra*."
   ]
  },
  {
   "cell_type": "markdown",
   "id": "adfe311a",
   "metadata": {},
   "source": [
    "\n",
    "! Pode ser que teñamos que ter coidado con estas dúas variables, non queremos que estas pesen moito máis que as demais no custo do coche."
   ]
  },
  {
   "cell_type": "markdown",
   "id": "78253088",
   "metadata": {},
   "source": [
    "## Visualización"
   ]
  },
  {
   "cell_type": "code",
   "execution_count": null,
   "id": "76eba727",
   "metadata": {},
   "outputs": [],
   "source": [
    "fig, axs = plt.subplots(2, 3, figsize= (20, 15))\n",
    "\n",
    "#print(axs.shape[1])\n",
    "#print(axs.size)\n",
    "\"\"\"\n",
    "i = 0\n",
    "j = 0\n",
    "for n in range(axs.size):\n",
    "    if j >= axs.shape[1]:\n",
    "        i += 1\n",
    "        j = 0\n",
    "    print(i, j)\n",
    "    \n",
    "    sns.scatterplot(data=df, x=df.columns.to_list()[n], y=\"Price\", ax = axs[i, j])\n",
    "    axs[i, j].xaxis.set_tick_params(rotation=45)\n",
    "    \n",
    "    j += 1\n",
    "plt.tight_layout()\n",
    "\"\"\"\n",
    "sns.violinplot(data=df, x= \"Manufacturer\", y=\"Price\", ax = axs[0, 0])\n",
    "sns.boxplot(data=df, x= \"Model\", y=\"Price\", ax = axs[0, 1])\n",
    "sns.scatterplot(data=df, x=\"Engine size\", y=\"Price\", ax = axs[0, 2])\n",
    "sns.violinplot(data=df, x=\"Fuel type\", y=\"Price\", ax = axs[1, 0])\n",
    "sns.scatterplot(data=df, x=\"Year of manufacture\", y=\"Price\", ax = axs[1, 1])\n",
    "sns.scatterplot(data=df, x=\"Mileage\", y=\"Price\", ax = axs[1, 2])\n",
    "\n",
    "axs[0,1].xaxis.set_tick_params(rotation=45)\n",
    "\n",
    "plt.tight_layout()\n"
   ]
  },
  {
   "cell_type": "markdown",
   "id": "c2958702",
   "metadata": {},
   "source": [
    "## Preparación dos datos"
   ]
  },
  {
   "cell_type": "markdown",
   "id": "19bdc44a",
   "metadata": {},
   "source": [
    "Non uso a variable \"Model\""
   ]
  },
  {
   "cell_type": "code",
   "execution_count": null,
   "id": "9d4b931a",
   "metadata": {},
   "outputs": [],
   "source": [
    "#Elixo as variables a estudar\n",
    "vars = [\"Manufacturer\", \"Fuel type\", \"Engine size\", \"Year of manufacture\", \"Mileage\"] # Variables independentes\n",
    "obj = \"Price\" # Variable obxectivo\n",
    "\n",
    "# Cambio o formato dos datos\n",
    "# DataFrame --> array\n",
    "print( \"Antes do cambio de formato: \" ); print( \" df -> \", type(df) , df.shape ); print(\"\")  \n",
    "x = df[vars].values\n",
    "y = df[obj].values.reshape(-1, 1) # Necesito facer o reshape (ten que ser unha matriz 2D, non un vector)\n",
    "print( \"Despois do cambio de formato: \" ); print( \" x --> \",type(x), x.shape,\"\\n y --> \", type(y) , y.shape)\n",
    "\n",
    "print(\"\\nPrimeira fila de x: \", x[0]) ; print(\"Tipo de datos de x: \", [type(x[0,i]) for i in range(x.shape[1])] )\n"
   ]
  },
  {
   "cell_type": "markdown",
   "id": "6c773341",
   "metadata": {},
   "source": [
    "|É necesario transformar os datos de formato *string* a formato numérico|\n",
    "|-|\n",
    "\n",
    "O modelo que queremos adestrar non trata con datos categóricos"
   ]
  },
  {
   "cell_type": "code",
   "execution_count": null,
   "id": "8f43bd0d",
   "metadata": {},
   "outputs": [],
   "source": [
    "from sklearn import preprocessing\n",
    "\n",
    "# Encodificador para a variable \"Manufacturer\"\n",
    "le_Manufacturer = preprocessing.LabelEncoder() \n",
    "le_Manufacturer.fit( df[\"Manufacturer\"].unique() ) # .unique() --> devolve unha lista con todos os posibles valores da variable (úsase nun pandas.Series)\n",
    "x[:,0] = le_Manufacturer.transform( x[:,0] ) # .transform() --> transforma os valores da variable segundo o encodificador axustado con .fit()\n",
    "\n",
    "# Encodificador para a variable \"Fuel type\"\n",
    "le_FuelType = preprocessing.LabelEncoder() \n",
    "le_FuelType.fit( df[\"Fuel type\"].unique() )\n",
    "x[:,1] = le_FuelType.transform( x[:,1] )\n",
    "\n",
    "print(\"\\nPrimeira fila de x: \", x[0]) ; print(\"Tipo de datos de x: \", [type(x[0,i]) for i in range(x.shape[1])] )\n"
   ]
  },
  {
   "cell_type": "code",
   "execution_count": null,
   "id": "54ce2a50",
   "metadata": {},
   "outputs": [],
   "source": [
    "# Divido os datos en datos de adestramento e datos de testeo\n",
    "from sklearn.model_selection import train_test_split\n",
    "x_train, x_test, y_train, y_test = train_test_split(x, y, test_size=0.2, random_state=200 )\n",
    "\n",
    "print( x_train.shape, x_test.shape, y_train.shape, y_test.shape )"
   ]
  },
  {
   "cell_type": "markdown",
   "id": "41f98abb",
   "metadata": {},
   "source": [
    "\n",
    "É posible que teñamos que importar o MinMaxScaler para normalizar os datos\n",
    "\n",
    "*O adestramento é máis fiable con datos normalizados*\n",
    "```python\n",
    "from sklean.preprocessing import MinMaxScaler\n",
    "```"
   ]
  },
  {
   "cell_type": "markdown",
   "id": "22feed05",
   "metadata": {},
   "source": [
    "## Preparación do modelo e adestramento do modelo"
   ]
  },
  {
   "cell_type": "code",
   "execution_count": null,
   "id": "eedbc171",
   "metadata": {},
   "outputs": [],
   "source": [
    "from sklearn.tree import DecisionTreeRegressor\n",
    "\n",
    "# Defino o modelo a adestrar como un Decision Tree Regressor\n",
    "model = DecisionTreeRegressor(max_depth=5)\n",
    "\n",
    "# Adestro o modelo cos datos de adestramento\n",
    "model.fit( x_train, y_train )\n",
    "\n",
    "# FALTA REMATAR (predición, avaliación do modelo, ploteo dos resultados, etc.)"
   ]
  },
  {
   "cell_type": "markdown",
   "id": "8d4924e4",
   "metadata": {},
   "source": [
    "Cela de proba (sempre ao final do código, para que esté todo cargado)"
   ]
  },
  {
   "cell_type": "code",
   "execution_count": null,
   "id": "a917c730",
   "metadata": {},
   "outputs": [],
   "source": [
    "print(le_Manufacturer.classes_)\n",
    "print(le_FuelType.classes_)"
   ]
  }
 ],
 "metadata": {
  "kernelspec": {
   "display_name": "pybiof (3.12.11)",
   "language": "python",
   "name": "python3"
  },
  "language_info": {
   "codemirror_mode": {
    "name": "ipython",
    "version": 3
   },
   "file_extension": ".py",
   "mimetype": "text/x-python",
   "name": "python",
   "nbconvert_exporter": "python",
   "pygments_lexer": "ipython3",
   "version": "3.12.11"
  }
 },
 "nbformat": 4,
 "nbformat_minor": 5
}
