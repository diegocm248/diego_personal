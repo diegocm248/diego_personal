{
 "cells": [
  {
   "cell_type": "markdown",
   "id": "142e7db2",
   "metadata": {},
   "source": [
    "# Diego Cordeiro Maceiras, Laura Quintáns López\n",
    "## Traballo 1\n",
    "\n",
    "### **Dataset -->** [Car sales data](https://www.kaggle.com/datasets/msnbehdani/mock-dataset-of-second-hand-car-sales/data)\n",
    "\n",
    "Obxectivo: Predicir o prezo dos coches introducindo certos datos"
   ]
  },
  {
   "cell_type": "markdown",
   "id": "23e465d0",
   "metadata": {},
   "source": [
    "Todo esto nun ficheiro `.zip`\n",
    "- Nome do traballo: nombreeapelido1_nomeeapelido2.ipynb\n",
    "- Enviar a base de datos"
   ]
  },
  {
   "cell_type": "code",
   "execution_count": null,
   "id": "52898c8b",
   "metadata": {},
   "outputs": [],
   "source": [
    "#-- Imports das librerías --\n",
    "# Álxebra lineal e manipulación de datos\n",
    "import numpy as np \n",
    "import pandas as pd\n",
    "# Graficación\n",
    "import seaborn as sns\n",
    "import matplotlib.pyplot as plt    \n",
    "plt.style.use(\"fast\")"
   ]
  },
  {
   "cell_type": "code",
   "execution_count": null,
   "id": "6322cfcb",
   "metadata": {},
   "outputs": [],
   "source": [
    "#-- Lectura dos datos --\n",
    "df = pd.read_csv(\"car_sales_data.csv\")\n",
    "df.head()"
   ]
  },
  {
   "cell_type": "code",
   "execution_count": null,
   "id": "0c926dfe",
   "metadata": {},
   "outputs": [],
   "source": [
    "print( \"Os parámetros deste dataset son: \" ); print( df.columns.to_list() )"
   ]
  },
  {
   "cell_type": "code",
   "execution_count": null,
   "id": "76952787",
   "metadata": {},
   "outputs": [],
   "source": [
    "df.info()"
   ]
  },
  {
   "cell_type": "markdown",
   "id": "35b0fbfb",
   "metadata": {},
   "source": [
    "### Estudo da Correlación\n",
    "\n",
    "Imos ver a **Matriz de correlación** das variables para ver cales están máis correlacionadas entre sí."
   ]
  },
  {
   "cell_type": "code",
   "execution_count": null,
   "id": "da7b1c78",
   "metadata": {},
   "outputs": [],
   "source": [
    "# Cambiamos os data types das columnas (para poder traballar con eles)\n",
    "# obj --> int8\n",
    "df_copy = df.copy()\n",
    "df_copy[\"Manufacturer\"] = df[\"Manufacturer\"].astype('category').cat.codes\n",
    "df_copy[\"Model\"] = df[\"Model\"].astype('category').cat.codes\n",
    "df_copy[\"Fuel type\"] = df[\"Fuel type\"].astype('category').cat.codes\n",
    "\n",
    "df_copy.info()\n",
    "df_copy.shape"
   ]
  },
  {
   "cell_type": "code",
   "execution_count": null,
   "id": "c5178c40",
   "metadata": {},
   "outputs": [],
   "source": [
    "\n",
    "corr_matrix = df_copy.corr() # Matriz de correlación\n",
    "\n",
    "# Visualización da matriz de correlación\n",
    "ax = sns.heatmap(corr_matrix, vmax=1, vmin=-1, annot=True, fmt=\".2f\", linewidth=0.5, cmap= sns.cubehelix_palette(as_cmap=True))\n",
    "# annot --> para ver os valores na matriz\n",
    "# fmt --> para controlar o formato dos valores na matriz\n",
    "# cmap --> para cambiar o mapa de cores\n",
    "# linewidth --> para o grosor da separación entre celas \n",
    "# vmax e vmin --> para controlar o rango de valores nos que se van a mapear ás cores\n",
    "\n",
    "ax.xaxis.set_tick_params(rotation=45) #rota os nomes das columnas"
   ]
  },
  {
   "cell_type": "markdown",
   "id": "99880fc7",
   "metadata": {},
   "source": [
    "Vemos que hai dúas variables moi correlacionadas co prezo i entre si:\n",
    "* **Mileage**\n",
    "* **Year of manufacture**\n",
    "\n",
    "1. O motivo da súa relación mútua é evidente: *Canto máis vello o coche, máis probable é que recorrera máis km*.\n",
    "2. O motivo da súa relación co prezo tamén é evidente: *Canto máis usado o coche, menos interés hai na súa compra*."
   ]
  },
  {
   "cell_type": "markdown",
   "id": "adfe311a",
   "metadata": {},
   "source": [
    "\n",
    "! Pode ser que teñamos que ter coidado con estas dúas variables, non queremos que estas pesen moito máis que as demais no custo do coche."
   ]
  },
  {
   "cell_type": "markdown",
   "id": "78253088",
   "metadata": {},
   "source": [
    "## Visualización"
   ]
  },
  {
   "cell_type": "code",
   "execution_count": null,
   "id": "76eba727",
   "metadata": {},
   "outputs": [],
   "source": [
    "# Ploteo un gráfico de cada variable con respecto ao prezo \n",
    "fig, axs = plt.subplots(2, 3, figsize= (20, 15))\n",
    "\n",
    "sns.violinplot(data=df, x= \"Manufacturer\", y=\"Price\", ax = axs[0, 0])\n",
    "sns.boxplot(data=df, x= \"Model\", y=\"Price\", ax = axs[0, 1])\n",
    "sns.scatterplot(data=df, x=\"Engine size\", y=\"Price\", ax = axs[0, 2])\n",
    "sns.violinplot(data=df, x=\"Fuel type\", y=\"Price\", ax = axs[1, 0])\n",
    "sns.scatterplot(data=df, x=\"Year of manufacture\", y=\"Price\", ax = axs[1, 1])\n",
    "sns.scatterplot(data=df, x=\"Mileage\", y=\"Price\", ax = axs[1, 2])\n",
    "\n",
    "axs[0,1].xaxis.set_tick_params(rotation=45)\n",
    "\n",
    "fig.tight_layout()"
   ]
  },
  {
   "cell_type": "markdown",
   "id": "c2958702",
   "metadata": {},
   "source": [
    "## Preparación dos datos"
   ]
  },
  {
   "cell_type": "markdown",
   "id": "19bdc44a",
   "metadata": {},
   "source": [
    "Non uso a variable \"Model\""
   ]
  },
  {
   "cell_type": "code",
   "execution_count": null,
   "id": "9d4b931a",
   "metadata": {},
   "outputs": [],
   "source": [
    "#Elixo as variables a estudar\n",
    "vars = [\"Manufacturer\", \"Fuel type\", \"Engine size\", \"Year of manufacture\", \"Mileage\"] # Variables independentes\n",
    "obj = \"Price\" # Variable obxectivo\n",
    "\n",
    "# Cambio o formato dos datos\n",
    "# DataFrame --> array\n",
    "print( \"Antes do cambio de formato: \" ); print( \" df -> \", type(df) , df.shape ); print(\"\")  \n",
    "x = df[vars].values\n",
    "y = df[obj].values.reshape(-1, 1) # Necesito facer o reshape (ten que ser unha matriz 2D, non un vector)\n",
    "\n",
    "# -- Varios printeos para facer comprobacións --\n",
    "print( \"Despois do cambio de formato: \" ); print( \" x --> \",type(x), x.shape,\"\\n y --> \", type(y) , y.shape)\n",
    "print(\"\\nPrimeira fila de x: \", x[0]) ; print(\"Tipo de datos de x: \", [type(x[0,i]) for i in range(x.shape[1])] )\n"
   ]
  },
  {
   "cell_type": "markdown",
   "id": "6c773341",
   "metadata": {},
   "source": [
    "|É necesario transformar os datos de formato *string* a formato numérico|\n",
    "|-|\n",
    "\n",
    "O modelo que queremos adestrar non trata con datos categóricos"
   ]
  },
  {
   "cell_type": "code",
   "execution_count": null,
   "id": "8f43bd0d",
   "metadata": {},
   "outputs": [],
   "source": [
    "from sklearn import preprocessing\n",
    "\n",
    "# Encodificador para a variable \"Manufacturer\"\n",
    "le_Manufacturer = preprocessing.LabelEncoder() \n",
    "le_Manufacturer.fit( df[\"Manufacturer\"].unique() ) # .unique() --> devolve unha lista con todos os posibles valores da variable (úsase nun pandas.Series)\n",
    "x[:,0] = le_Manufacturer.transform( x[:,0] ) # .transform() --> transforma os valores da variable segundo o encodificador axustado con .fit()\n",
    "\n",
    "# Encodificador para a variable \"Fuel type\"\n",
    "le_FuelType = preprocessing.LabelEncoder() \n",
    "le_FuelType.fit( df[\"Fuel type\"].unique() )\n",
    "x[:,1] = le_FuelType.transform( x[:,1] )\n",
    "\n",
    "print(\"\\nPrimeira fila de x: \", x[0]) ; print(\"Tipo de datos de x: \", [type(x[0,i]) for i in range(x.shape[1])] )\n"
   ]
  },
  {
   "cell_type": "markdown",
   "id": "6f0dfa41",
   "metadata": {},
   "source": [
    "\n",
    "É necesario importar a class `MinMaxScaler` para normalizar os datos\n",
    "\n",
    "*O adestramento é máis fiable con datos normalizados*"
   ]
  },
  {
   "cell_type": "code",
   "execution_count": null,
   "id": "4ad5e664",
   "metadata": {},
   "outputs": [],
   "source": [
    "x_scaler = preprocessing.MinMaxScaler()\n",
    "y_scaler = preprocessing.MinMaxScaler()\n",
    "\n",
    "x = x_scaler.fit_transform(x)\n",
    "y = y_scaler.fit_transform(y)"
   ]
  },
  {
   "cell_type": "code",
   "execution_count": null,
   "id": "54ce2a50",
   "metadata": {},
   "outputs": [],
   "source": [
    "# Divido os datos en datos de adestramento e datos de testeo\n",
    "from sklearn.model_selection import train_test_split\n",
    "x_train, x_test, y_train, y_test = train_test_split(x, y, test_size=0.2, random_state=200 )\n",
    "\n",
    "# -- Varios printeos para facer comprobacións --\n",
    "print( x_train.shape, x_test.shape, y_train.shape, y_test.shape )"
   ]
  },
  {
   "cell_type": "markdown",
   "id": "22feed05",
   "metadata": {},
   "source": [
    "## Preparación e adestramento do modelo"
   ]
  },
  {
   "cell_type": "markdown",
   "id": "31fdd4c2",
   "metadata": {},
   "source": [
    "## Testeo do modelo\n",
    "Predí ben os prezos?"
   ]
  },
  {
   "cell_type": "code",
   "execution_count": null,
   "id": "6b93fc9f",
   "metadata": {},
   "outputs": [],
   "source": [
    "\n",
    "from sklearn.tree import DecisionTreeRegressor\n",
    "from sklearn.metrics import r2_score\n",
    "\n",
    "# -- Xeramos os obxetos onde almacenaremos os modelos e as análises --\n",
    "\n",
    "# DataFrame para almacenar os R²\n",
    "r2 = pd.DataFrame({\n",
    "    \"Max Depth\": np.arange(5,20,1),\n",
    "    \"R² train\": None,\n",
    "    \"R² test\": None,\n",
    "})\n",
    "# Diccionario para almacenar os modelos\n",
    "models = {}\n",
    "for depth in r2[\"Max Depth\"]:\n",
    "    models[depth] = DecisionTreeRegressor(max_depth=depth)\n",
    "\n",
    "# -- Bucle, iteración de depths --\n",
    "for depth, model in models.items():\n",
    "\n",
    "    # Facemos unha copia dos datos para non modificar os orixinais\n",
    "    x_train_copy = x_train.copy()\n",
    "    x_test_copy = x_test.copy()\n",
    "    y_train_copy = y_train.copy()\n",
    "    y_test_copy = y_test.copy()\n",
    "\n",
    "    # Adestramos o modelo cos datos de adestramento\n",
    "    model.fit( x_train_copy, y_train_copy )\n",
    "    y_test_pred = model.predict(x_test_copy)\n",
    "    y_train_pred = model.predict(x_train_copy)\n",
    "\n",
    "    # Invertimos a normalización\n",
    "    y_test_pred = y_scaler.inverse_transform(y_test_pred.reshape(-1,1))\n",
    "    y_test_copy = y_scaler.inverse_transform(y_test_copy)\n",
    "    y_train_pred = y_scaler.inverse_transform(y_train_pred.reshape(-1,1))\n",
    "    y_train_copy = y_scaler.inverse_transform(y_train_copy)\n",
    "\n",
    "    # Calculamos o R² e gardámolo no DataFrame\n",
    "    r2.loc[r2[\"Max Depth\"]==depth, \"R² test\"] = r2_score( y_test_copy, y_test_pred )\n",
    "    r2.loc[r2[\"Max Depth\"]==depth, \"R² train\"] = r2_score( y_train_copy, y_train_pred )\n",
    "\n",
    "# Poñemos a columna \"Max Depth\" como índice do DataFrame\n",
    "r2.set_index(\"Max Depth\", inplace=True)\n",
    "\n",
    "print(r2)\n"
   ]
  },
  {
   "cell_type": "markdown",
   "id": "bcb16e51",
   "metadata": {},
   "source": [
    "O que nos importa é a *depth* á que o **R² test** é maior, xa que o R² train vai mellorar sempre, pero non queremos que se sobreadestre o modelo con datos de adestramento."
   ]
  },
  {
   "cell_type": "code",
   "execution_count": null,
   "id": "aac4b490",
   "metadata": {},
   "outputs": [],
   "source": [
    "# -- Ploteamos os R² --\n",
    "fig, ax = plt.subplots(nrows=1,ncols=1, figsize=(7,5))\n",
    "\n",
    "# Plots dos datos de R² e liñas marcando o máximo\n",
    "ax.plot(r2.index.values, r2[\"R² train\"], marker='s',linestyle=\"-\", label=\"R² train\") # R² de adestramento\n",
    "ax.plot(r2.index.values, r2[\"R² test\"], marker='s', label=\"R² test\") # R² de testeo\n",
    "ax.axhline(y = max(r2[\"R² test\"].values), color=\"C3\", linestyle=\"-.\",  label=\"Max R² test\") # Liña horizontal\n",
    "ax.axvline(x = r2[\"R² test\"].idxmax(), color=\"C3\", linestyle=\"-.\") # Liña vertical\n",
    "\n",
    "# Modificacións dos eixos\n",
    "ax.set_xlabel(\"Max Depth\"); plt.ylabel(\"R²\")\n",
    "ax.set_title(\"R² en función do Max Depth\")\n",
    "ax.set_xlim(r2.index.values[0]-.5, r2.index.values[-1]+.5)\n",
    "ax.set_ylim(0.895,1.005)\n",
    "\n",
    "# Modificacións dos ticks\n",
    "ax.minorticks_on()\n",
    "ax.tick_params(axis=\"x\", which=\"minor\",length=0, labelbottom=False)\n",
    "ax.tick_params(axis=\"y\", which=\"minor\",length=4, direction=\"inout\")\n",
    "ax.tick_params(axis=\"both\", which=\"major\",length=7, direction=\"inout\")\n",
    "ax.set_xticks(r2.index.values); ax.set_yticks(np.arange(0.9,1.01,0.01))\n",
    "\n",
    "# Configuración das cuadrículas\n",
    "ax.grid(axis=\"both\", which=\"major\", linestyle='-', linewidth='0.5', color='black', alpha=0.4) # Grid para major ticks\n",
    "ax.grid(axis=\"y\", which=\"minor\", linestyle=':', linewidth='0.5', color='black', alpha=0.4) # Grid para minor ticks\n",
    "\n",
    "# Lenda\n",
    "ax.legend(loc=\"best\", framealpha=1)"
   ]
  },
  {
   "cell_type": "markdown",
   "id": "4d41edc8",
   "metadata": {},
   "source": [
    "Facer un estudo **quitando unha das variables altamente correlacionadas** co prezo, por exemplo: `Year of manufacture`"
   ]
  }
 ],
 "metadata": {
  "kernelspec": {
   "display_name": "pybiof (3.12.11)",
   "language": "python",
   "name": "python3"
  },
  "language_info": {
   "codemirror_mode": {
    "name": "ipython",
    "version": 3
   },
   "file_extension": ".py",
   "mimetype": "text/x-python",
   "name": "python",
   "nbconvert_exporter": "python",
   "pygments_lexer": "ipython3",
   "version": "3.12.11"
  }
 },
 "nbformat": 4,
 "nbformat_minor": 5
}
